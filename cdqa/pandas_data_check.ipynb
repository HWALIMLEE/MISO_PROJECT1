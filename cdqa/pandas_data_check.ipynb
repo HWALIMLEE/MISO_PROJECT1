{
 "cells": [
  {
   "cell_type": "code",
   "execution_count": 22,
   "metadata": {},
   "outputs": [
    {
     "data": {
      "text/plain": [
       "[442761]"
      ]
     },
     "execution_count": 22,
     "metadata": {},
     "output_type": "execute_result"
    }
   ],
   "source": [
    "# 데이터 좀 보자\n",
    "import pandas as pd\n",
    "df = pd.read_csv('./data/bert_dataset_prepro.csv',encoding='utf-8')\n",
    "df[df['title']=='우리네이버페이체크카드발급하고최대1만원받자!'].index.tolist()"
   ]
  },
  {
   "cell_type": "code",
   "execution_count": 20,
   "metadata": {},
   "outputs": [
    {
     "data": {
      "text/plain": [
       "\"['이벤트  박카스 2020 9 28 1410 이웃추가 본문 기타 기능 본문 폰트 크기 조정 본문 폰트 크기 작게 보기 본문 폰트 크기 크게 보기 가 공감하기 공유하기 URL복사 번역하기 신고  우리 네이버페이 체크카드  1 전월 실적없이 무조건 사용액 15 적립2020년 12월까지  월 적립 한도 15만원 2 발급 후 누적 1만원 이상 사용 시 연회비 면제 체크 카드인데 독특하게 연회비가 있다 연회비 5000원국내 해외겸용 동일 3 아래 링크로 가입하고 누적 1만원 이상 사용 시 우리은행 체크카드가 없는 경우 10000원 있는 경우 5000원 네이버페이 포인트 지급 우리 체크카드 Npay x woori card 내일은 늦으리 친구들에게도 혜택 좋은 네이버페이 체크카드 를 알려주세요 네이버페이 우리카드 체크 혜택 종료 D 94 09  56  58 전월실적 조건없는 국내 15 적립혜택은 2020 년 종료됩니다 하루라도 더 빨리 더 많이 혜택 받아가세요 이벤트 이율 표 이용구분 국내 해외 기본 이벤트 적립률 1 05 1 월 적립한도 1만 포인트 5천 포인트 1만 포인트 연회비 100 캐시백 20201231 까지 대상카드를 발급 받고 다음달 말까지 누적 1 만원 이상 이용 시 제공 단 mcampaignnavercom 추천  전월 실적 신경 쓰지 않고 적립 원하는 사람 혹은 우리은행 체크카드 없어서 만들어야 하는데 추가로 네이버포인트도 받고 싶은 사람  주요 혜택 라운지 무료에 해외이용 수수료 꽤 강력한 혜택인데 코로나 상황에서는 무쓸모 ㅠㅠ   우리네이버페이체크카드 네이버페이체크카드 전월실적없는체크카드 체크카드추천']\""
      ]
     },
     "execution_count": 20,
     "metadata": {},
     "output_type": "execute_result"
    }
   ],
   "source": [
    "df['paragraphs'][442761]"
   ]
  },
  {
   "cell_type": "code",
   "execution_count": null,
   "metadata": {},
   "outputs": [],
   "source": []
  }
 ],
 "metadata": {
  "kernelspec": {
   "display_name": "cdQA",
   "language": "python",
   "name": "nlpqaconda"
  },
  "language_info": {
   "codemirror_mode": {
    "name": "ipython",
    "version": 3
   },
   "file_extension": ".py",
   "mimetype": "text/x-python",
   "name": "python",
   "nbconvert_exporter": "python",
   "pygments_lexer": "ipython3",
   "version": "3.7.9"
  }
 },
 "nbformat": 4,
 "nbformat_minor": 4
}
