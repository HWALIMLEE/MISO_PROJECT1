{
 "cells": [
  {
   "cell_type": "code",
   "execution_count": 1,
   "metadata": {},
   "outputs": [
    {
     "name": "stderr",
     "output_type": "stream",
     "text": [
      "/home/user05/.pyenv/versions/nlpqaconda/lib/python3.7/site-packages/tqdm/autonotebook/__init__.py:18: TqdmExperimentalWarning: Using `tqdm.autonotebook.tqdm` in notebook mode. Use `tqdm.tqdm` instead to force console mode (e.g. in jupyter console)\n",
      "  \" (e.g. in jupyter console)\", TqdmExperimentalWarning)\n"
     ]
    }
   ],
   "source": [
    "import os\n",
    "import pandas as pd\n",
    "from ast import literal_eval\n",
    "\n",
    "from cdqa.utils.filters import filter_paragraphs\n",
    "from cdqa.pipeline import QAPipeline"
   ]
  },
  {
   "cell_type": "code",
   "execution_count": 2,
   "metadata": {},
   "outputs": [
    {
     "name": "stdout",
     "output_type": "stream",
     "text": [
      "\n",
      "Downloading BNP data...\n",
      "bnpp_newsroom-v1.1.csv already downloaded\n",
      "\n",
      "Downloading trained model...\n",
      "bert_qa.joblib already downloaded\n"
     ]
    }
   ],
   "source": [
    "from cdqa.utils.download import download_model, download_bnpp_data\n",
    "\n",
    "download_bnpp_data(dir='./data/bnpp_newsroom_v1.1/')\n",
    "download_model(model='bert-squad_1.1', dir='./models')"
   ]
  },
  {
   "cell_type": "markdown",
   "metadata": {},
   "source": [
    "### Visualize the dataset"
   ]
  },
  {
   "cell_type": "code",
   "execution_count": 4,
   "metadata": {},
   "outputs": [
    {
     "data": {
      "text/html": [
       "<div>\n",
       "<style scoped>\n",
       "    .dataframe tbody tr th:only-of-type {\n",
       "        vertical-align: middle;\n",
       "    }\n",
       "\n",
       "    .dataframe tbody tr th {\n",
       "        vertical-align: top;\n",
       "    }\n",
       "\n",
       "    .dataframe thead th {\n",
       "        text-align: right;\n",
       "    }\n",
       "</style>\n",
       "<table border=\"1\" class=\"dataframe\">\n",
       "  <thead>\n",
       "    <tr style=\"text-align: right;\">\n",
       "      <th></th>\n",
       "      <th>Unnamed: 0</th>\n",
       "      <th>title</th>\n",
       "      <th>postdate</th>\n",
       "      <th>location_name</th>\n",
       "      <th>paragraphs</th>\n",
       "    </tr>\n",
       "  </thead>\n",
       "  <tbody>\n",
       "    <tr>\n",
       "      <th>0</th>\n",
       "      <td>1</td>\n",
       "      <td>카카오프렌즈순면아동가운-기념타올,답례품,컴퓨터자수</td>\n",
       "      <td>2020-10-05 23:09:00</td>\n",
       "      <td>컴퓨터자수 무료 대구 타월공장 대가야 타월</td>\n",
       "      <td>[판매타올  대가야 12시간 전 이웃추가 본문 기타 기능 본문 폰트 크기 조정 본문...</td>\n",
       "    </tr>\n",
       "    <tr>\n",
       "      <th>1</th>\n",
       "      <td>2</td>\n",
       "      <td>(내공100)20대신용+체크카드추천부탁드립니다!!</td>\n",
       "      <td>NaN</td>\n",
       "      <td>네이버지식인</td>\n",
       "      <td>[27살 남자구요 살면서 체크카드만 사용해봤고 주위에 좀 물어보니 신용카드 체크카드...</td>\n",
       "    </tr>\n",
       "    <tr>\n",
       "      <th>2</th>\n",
       "      <td>4</td>\n",
       "      <td>[천안직산맛집/음식점/혼밥]직산김치찌개를찾는당신'맛고을묵은지'로오라.</td>\n",
       "      <td>2020-10-05 23:09:00</td>\n",
       "      <td>기록의 일상; 여백의 미</td>\n",
       "      <td>[혼밥 가넝한  쩝쩝박사 12시간 전 이웃추가 본문 기타 기능 본문 폰트 크기 조정...</td>\n",
       "    </tr>\n",
       "    <tr>\n",
       "      <th>3</th>\n",
       "      <td>5</td>\n",
       "      <td>방문은내일가겠습니다......</td>\n",
       "      <td>2020-10-05 23:09:00</td>\n",
       "      <td>새파란 하늘</td>\n",
       "      <td>[일상_전체  아틸라 12시간 전 이웃추가 본문 기타 기능 본문 폰트 크기 조정 본...</td>\n",
       "    </tr>\n",
       "    <tr>\n",
       "      <th>4</th>\n",
       "      <td>7</td>\n",
       "      <td>창원왁싱엔네일샵에간이샤워시설의조립식샤워부스설치</td>\n",
       "      <td>2020-10-05 23:09:00</td>\n",
       "      <td>에치비1522-5310고객센터</td>\n",
       "      <td>[오늘 설치한 조립식샤워부스 소개합니다창원에 왁싱네일샵에싸이즈 1000×900짜리 ...</td>\n",
       "    </tr>\n",
       "  </tbody>\n",
       "</table>\n",
       "</div>"
      ],
      "text/plain": [
       "   Unnamed: 0                                   title             postdate  \\\n",
       "0           1             카카오프렌즈순면아동가운-기념타올,답례품,컴퓨터자수  2020-10-05 23:09:00   \n",
       "1           2             (내공100)20대신용+체크카드추천부탁드립니다!!                  NaN   \n",
       "2           4  [천안직산맛집/음식점/혼밥]직산김치찌개를찾는당신'맛고을묵은지'로오라.  2020-10-05 23:09:00   \n",
       "3           5                        방문은내일가겠습니다......  2020-10-05 23:09:00   \n",
       "4           7               창원왁싱엔네일샵에간이샤워시설의조립식샤워부스설치  2020-10-05 23:09:00   \n",
       "\n",
       "             location_name                                         paragraphs  \n",
       "0  컴퓨터자수 무료 대구 타월공장 대가야 타월  [판매타올  대가야 12시간 전 이웃추가 본문 기타 기능 본문 폰트 크기 조정 본문...  \n",
       "1                   네이버지식인  [27살 남자구요 살면서 체크카드만 사용해봤고 주위에 좀 물어보니 신용카드 체크카드...  \n",
       "2            기록의 일상; 여백의 미  [혼밥 가넝한  쩝쩝박사 12시간 전 이웃추가 본문 기타 기능 본문 폰트 크기 조정...  \n",
       "3                   새파란 하늘  [일상_전체  아틸라 12시간 전 이웃추가 본문 기타 기능 본문 폰트 크기 조정 본...  \n",
       "4         에치비1522-5310고객센터  [오늘 설치한 조립식샤워부스 소개합니다창원에 왁싱네일샵에싸이즈 1000×900짜리 ...  "
      ]
     },
     "execution_count": 4,
     "metadata": {},
     "output_type": "execute_result"
    }
   ],
   "source": [
    "df = pd.read_csv('./data/bert_dataset_prepro.csv', converters={'paragraphs': literal_eval})\n",
    "df = filter_paragraphs(df)\n",
    "df.head()\n",
    "  "
   ]
  },
  {
   "cell_type": "code",
   "execution_count": null,
   "metadata": {},
   "outputs": [],
   "source": [
    "df2 = pd.read_csv('./data/bnpp_newsroom_v1.1/bnpp_newsroom-v1.1.csv', converters={'paragraphs':literal_eval})\n",
    "df2 = filter_paragraphs(df2)\n",
    "df2.head()"
   ]
  },
  {
   "cell_type": "code",
   "execution_count": 5,
   "metadata": {},
   "outputs": [
    {
     "name": "stderr",
     "output_type": "stream",
     "text": [
      "/home/user05/.pyenv/versions/nlpqaconda/lib/python3.7/site-packages/cdqa/pipeline/cdqa_sklearn.py:108: SettingWithCopyWarning: \n",
      "A value is trying to be set on a copy of a slice from a DataFrame.\n",
      "Try using .loc[row_indexer,col_indexer] = value instead\n",
      "\n",
      "See the caveats in the documentation: http://pandas.pydata.org/pandas-docs/stable/user_guide/indexing.html#returning-a-view-versus-a-copy\n",
      "  lambda x: \" \".join(x)\n"
     ]
    },
    {
     "data": {
      "text/plain": [
       "QAPipeline(reader=BertQA(adam_epsilon=1e-08, bert_model='bert-base-uncased',\n",
       "                         do_lower_case=False, fp16=False,\n",
       "                         gradient_accumulation_steps=1, learning_rate=3e-05,\n",
       "                         local_rank=-1, loss_scale=0, max_answer_length=30,\n",
       "                         n_best_size=20, no_cuda=False,\n",
       "                         null_score_diff_threshold=0.0, num_train_epochs=5,\n",
       "                         output_dir='models', predict_batch_size=8, seed=42,\n",
       "                         server_ip='', server_port='', train_batch_size=12,\n",
       "                         verbose_logging=False, version_2_with_negative=False,\n",
       "                         warmup_proportion=0.1, warmup_steps=0),\n",
       "           retrieve_by_doc=True,\n",
       "           retriever=TfidfRetriever(lowercase=True, max_df=0.85, min_df=2,\n",
       "                                    ngram_range=(1, 2), preprocessor=None,\n",
       "                                    stop_words='english',\n",
       "                                    token_pattern='(?u)\\\\b\\\\w\\\\w+\\\\b',\n",
       "                                    tokenizer=None, top_n=20, verbose=False,\n",
       "                                    vocabulary=None))"
      ]
     },
     "execution_count": 5,
     "metadata": {},
     "output_type": "execute_result"
    }
   ],
   "source": [
    "cdqa_pipeline = QAPipeline(reader='bert_qa_hwalim_epoch5.joblib', retriever='tfidf', retrieve_by_doc=True)\n",
    "cdqa_pipeline.fit_retriever(df=df.iloc[:10000,:])\n",
    "cdqa_pipeline.cuda()"
   ]
  },
  {
   "cell_type": "code",
   "execution_count": 6,
   "metadata": {},
   "outputs": [
    {
     "data": {
      "text/plain": [
       "('되는대로',\n",
       " '[나눈질문1]이정도경사오를수있는전동킥보드추천해주세요',\n",
       " '되는대로 캡쳐해와서 사진상으로는 잘 판단이 안되실 수 있지만체감상 경사가 30은 되는거 같아요 ㅠ버스 기다리는 시간도 아깝고 출근지가 애매한 자리에 있어서좀 더 효율적으로 움직이고자 탈 것을 구매하려고 하는데요전동킥보드로 사진상의 경사를 오를 수 있나요제 키는 188 몸무게는 92 정돕니다가방무게 포함 97정도오를 수 있는게 있으면 추천 부탁드리고전동킥보드 말고 다른 좋은 제품 알고계시면 추천 부탁드립니다',\n",
       " 5.194071070036557)"
      ]
     },
     "execution_count": 6,
     "metadata": {},
     "output_type": "execute_result"
    }
   ],
   "source": [
    "query = '체크카드 추천 부탁드립니다'\n",
    "cdqa_pipeline.predict(query)"
   ]
  },
  {
   "cell_type": "code",
   "execution_count": null,
   "metadata": {},
   "outputs": [],
   "source": [
    "# text, title, paragraph, final_score"
   ]
  }
 ],
 "metadata": {
  "kernelspec": {
   "display_name": "cdQA",
   "language": "python",
   "name": "nlpqaconda"
  },
  "language_info": {
   "codemirror_mode": {
    "name": "ipython",
    "version": 3
   },
   "file_extension": ".py",
   "mimetype": "text/x-python",
   "name": "python",
   "nbconvert_exporter": "python",
   "pygments_lexer": "ipython3",
   "version": "3.7.9"
  }
 },
 "nbformat": 4,
 "nbformat_minor": 4
}
