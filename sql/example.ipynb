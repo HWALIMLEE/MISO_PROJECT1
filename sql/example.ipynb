{
 "metadata": {
  "language_info": {
   "codemirror_mode": {
    "name": "ipython",
    "version": 3
   },
   "file_extension": ".py",
   "mimetype": "text/x-python",
   "name": "python",
   "nbconvert_exporter": "python",
   "pygments_lexer": "ipython3",
   "version": "3.8.3-final"
  },
  "orig_nbformat": 2,
  "kernelspec": {
   "name": "python3",
   "display_name": "Python 3.8.3 64-bit (conda)",
   "metadata": {
    "interpreter": {
     "hash": "48a00f83fc7f14015e6077d2ecf52c5bf85c9f8678349aa646d2ba05bb1dc401"
    }
   }
  }
 },
 "nbformat": 4,
 "nbformat_minor": 2,
 "cells": [
  {
   "cell_type": "code",
   "execution_count": 2,
   "metadata": {},
   "outputs": [
    {
     "output_type": "stream",
     "name": "stdout",
     "text": [
      "Collecting pymysql\n  Using cached PyMySQL-1.0.2-py3-none-any.whl (43 kB)\nInstalling collected packages: pymysql\nSuccessfully installed pymysql-1.0.2\n"
     ]
    }
   ],
   "source": [
    "! pip install pymysql"
   ]
  },
  {
   "cell_type": "code",
   "execution_count": 30,
   "metadata": {},
   "outputs": [],
   "source": [
    "# 데이터 베이스 생성\n",
    "import pymysql.cursors\n",
    "conn = pymysql.connect(host='localhost',user='root',password='root',charset='utf8')\n",
    "try:\n",
    "    with conn.cursor() as cursor:\n",
    "        sql = 'CREATE DATABASE example_db'\n",
    "        cursor.execute(sql)\n",
    "    conn.commit()\n",
    "\n",
    "finally:\n",
    "    conn.close()\n"
   ]
  },
  {
   "cell_type": "code",
   "execution_count": 31,
   "metadata": {},
   "outputs": [],
   "source": [
    "# 테이블 생성\n",
    "import pymysql.cursors\n",
    "\n",
    "conn = pymysql.connect(host='localhost',user='root',password='root',charset='utf8',db='example_db')\n",
    "try:\n",
    "    with conn.cursor() as cursor:\n",
    "        sql = '''\n",
    "            CREATE TABLE users (\n",
    "                id int(11) NOT NULL AUTO_INCREMENT PRIMARY KEY,\n",
    "                email varchar(255) NOT NULL,\n",
    "                password varchar(255) NOT NULL\n",
    "             )ENGINE=InnoDB DEFAULT CHARSET=utf8\n",
    "'''\n",
    "# user라는 table생성하고 열 이름과 타입 지정\n",
    "        cursor.execute(sql)\n",
    "    conn.commit()\n",
    "finally:\n",
    "    conn.close()"
   ]
  },
  {
   "cell_type": "code",
   "execution_count": 32,
   "metadata": {},
   "outputs": [
    {
     "output_type": "stream",
     "name": "stdout",
     "text": [
      "1\n"
     ]
    }
   ],
   "source": [
    "# 데이터 삽입\n",
    "import pymysql.cursors\n",
    "\n",
    "conn = pymysql.connect(host='localhost',user='root',password='root',db='example_db',charset='utf8')\n",
    "\n",
    "try:\n",
    "    with conn.cursor() as cursor:\n",
    "        sql = \"INSERT INTO users (email,password) VALUES (%s,%s)\" # users라는 테이블 안에 email, password 값 추가\n",
    "        cursor.execute(sql,('test@test.com','my-passwd'))\n",
    "    conn.commit()\n",
    "    print(cursor.lastrowid)\n",
    "finally:\n",
    "    conn.close()"
   ]
  },
  {
   "cell_type": "code",
   "execution_count": 33,
   "metadata": {},
   "outputs": [
    {
     "output_type": "stream",
     "name": "stdout",
     "text": [
      "(1, 'test@test.com', 'my-passwd')\n"
     ]
    }
   ],
   "source": [
    "# 데이터 조회(select)\n",
    "import pymysql.cursors\n",
    "\n",
    "conn = pymysql.connect(host='localhost',user='root',password='root',db='example_db',charset='utf8')\n",
    "\n",
    "try:\n",
    "    with conn.cursor() as cursor:\n",
    "        sql = 'SELECT * FROM users WHERE email=%s' # email이 test@test.com인거 행 뽑아내기\n",
    "        cursor.execute(sql,('test@test.com',))\n",
    "        result = cursor.fetchone()\n",
    "        print(result)\n",
    "finally:\n",
    "    conn.close()"
   ]
  },
  {
   "cell_type": "code",
   "execution_count": 34,
   "metadata": {},
   "outputs": [
    {
     "output_type": "stream",
     "name": "stdout",
     "text": [
      "((1, 'test@test.com', 'my-passwd'), (2, 'your@tet.com', 'your-passwd'))\n"
     ]
    }
   ],
   "source": [
    "import pymysql.cursors\n",
    "\n",
    "conn = pymysql.connect(host='localhost',user='root',password='root',db='example_db',charset='utf8')\n",
    "\n",
    "try:\n",
    "    with conn.cursor() as cursor:\n",
    "        sql = \"INSERT INTO users (email,password) VALUES (%s,%s)\"\n",
    "        cursor.execute(sql,('your@tet.com','your-passwd'))\n",
    "    conn.commit()\n",
    "    \n",
    "    with conn.cursor() as cursor:\n",
    "        sql = 'SELECT * FROM users' # 조건없이 모든 행 추출\n",
    "        cursor.execute(sql)\n",
    "        result = cursor.fetchall() # fetchall 사용\n",
    "        print(result)\n",
    "finally:\n",
    "    conn.close()"
   ]
  },
  {
   "cell_type": "code",
   "execution_count": 35,
   "metadata": {},
   "outputs": [
    {
     "output_type": "stream",
     "name": "stdout",
     "text": [
      "1\n2\n((1, 'my@test.com', 'my-passwd'), (2, 'your@tet.com', 'your-passwd'))\n"
     ]
    }
   ],
   "source": [
    "# 데이터 수정(updqte)\n",
    "import pymysql.cursors\n",
    "\n",
    "conn = pymysql.connect(host='localhost',user='root',password='root',db='example_db',charset='utf8')\n",
    "\n",
    "try:\n",
    "    with conn.cursor() as cursor:\n",
    "        sql = \"UPDATE users SET email=%s WHERE email=%s\" # email 주소 변경(변경값, 변경 전)\n",
    "        cursor.execute(sql,('my@test.com','test@test.com'))\n",
    "    conn.commit() # commit은 모든 작업을 정상적으로 잘 처리하겠다고 확정하는 명령어\n",
    "    print(cursor.rowcount) # 데이터를 가져오는 경우 전체 개수\n",
    "\n",
    "    with conn.cursor() as cursor:\n",
    "        sql = \"SELECT * FROM users\"\n",
    "        cursor.execute(sql)\n",
    "        result = cursor.fetchall()\n",
    "        # 모든 행의 개수가 나오게 됨\n",
    "        print(cursor.rowcount)\n",
    "        print(result)\n",
    "finally:\n",
    "    conn.close()"
   ]
  },
  {
   "cell_type": "code",
   "execution_count": 36,
   "metadata": {},
   "outputs": [
    {
     "output_type": "stream",
     "name": "stdout",
     "text": [
      "1\n1\n"
     ]
    }
   ],
   "source": [
    "# 데이터 삭제(delete)\n",
    "import pymysql.cursors\n",
    "\n",
    "conn = pymysql.connect(host='localhost',user='root',password='root',db='example_db',charset='utf8')\n",
    "\n",
    "try:\n",
    "    with conn.cursor() as cursor:\n",
    "        sql = \"DELETE FROM users WHERE email=%s\"\n",
    "        cursor.execute(sql,('my@test.com'))\n",
    "    conn.commit()\n",
    "    print(cursor.rowcount)\n",
    "\n",
    "    with conn.cursor() as cursor:\n",
    "        sql = \"SELECT * FROM users\"\n",
    "        cursor.execute(sql)\n",
    "        result = cursor.fetchall()\n",
    "        print(cursor.rowcount)\n",
    "\n",
    "finally:\n",
    "    conn.close()"
   ]
  },
  {
   "cell_type": "code",
   "execution_count": null,
   "metadata": {},
   "outputs": [],
   "source": [
    "# 테이블 생성\n",
    "import pymysql.cursors\n",
    "\n",
    "conn = pymysql.connect(host='localhost',user='root',password='root',charset='utf8',db='suwon')\n",
    "try:\n",
    "    with conn.cursor() as cursor:\n",
    "        sql = '''\n",
    "            CREATE TABLE suwon_samsung (\n",
    "                id int(11) NOT NULL AUTO_INCREMENT PRIMARY KEY,\n",
    "                기준년월 varchar(255) NOT NULL,\n",
    "                시군구 varchar(255) NOT NULL,\n",
    "                읍면동 varchar(255) NOT NULL,\n",
    "                법정동코드 varchar(255) NOT NULL,\n",
    "                법정동 varchar(255) NOT NULL,\n",
    "                우편번호 varchar(255) NOT NULL,\n",
    "                업종 varchar(255) NOT NULL,\n",
    "                구분 varchar(255) NOT NULL,\n",
    "                성별 varchar(255) NOT NULL,\n",
    "                연령대 varchar(255) NOT NULL,\n",
    "                결제건수 int(11) NOT NULL,\n",
    "                결제금액 int(11) NOT NULL\n",
    "             )ENGINE=InnoDB DEFAULT CHARSET=utf8\n",
    "'''\n",
    "# user라는 table생성하고 열 이름과 타입 지정\n",
    "        cursor.execute(sql)\n",
    "    conn.commit()\n",
    "finally:\n",
    "    conn.close()"
   ]
  }
 ]
}